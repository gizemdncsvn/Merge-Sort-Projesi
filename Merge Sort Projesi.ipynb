{
 "cells": [
  {
   "cell_type": "markdown",
   "id": "71b1df61",
   "metadata": {},
   "source": [
    "## Merge Sort Projesi"
   ]
  },
  {
   "cell_type": "markdown",
   "id": "e8937b0e",
   "metadata": {},
   "source": [
    "### Proje 2"
   ]
  },
  {
   "cell_type": "markdown",
   "id": "77b8b4c4",
   "metadata": {},
   "source": [
    "[16,21,11,8,12,22] -> Merge Sort\n",
    "\n",
    "- Yukarıdaki dizinin sort türüne göre aşamalarını yazınız.\n",
    "- Big-O gösterimini yazınız."
   ]
  },
  {
   "cell_type": "markdown",
   "id": "c538c842",
   "metadata": {},
   "source": [
    "### Çözüm"
   ]
  },
  {
   "cell_type": "markdown",
   "id": "d379e251",
   "metadata": {},
   "source": [
    "[16,21,11,8,12,22]\n",
    "\n",
    "[16,21,11]  [8,12,22]\n",
    "\n",
    "[16,21]  [11]  [8,12]  [22]\n",
    "\n",
    "[16]  [21]  [11]  [8]  [12]  [22]\n",
    "\n",
    "[16,21]  [11]  [8,12]  [22]\n",
    "\n",
    "[11,16,21]  [8,12,22]\n",
    "\n",
    "[8,11,12,16,21,22]"
   ]
  },
  {
   "cell_type": "markdown",
   "id": "d99500c0",
   "metadata": {},
   "source": [
    "- Worst-Case: O(n log n) \n",
    "\n",
    "- Best-Case: Ω(n log n)"
   ]
  }
 ],
 "metadata": {
  "kernelspec": {
   "display_name": "Python 3 (ipykernel)",
   "language": "python",
   "name": "python3"
  },
  "language_info": {
   "codemirror_mode": {
    "name": "ipython",
    "version": 3
   },
   "file_extension": ".py",
   "mimetype": "text/x-python",
   "name": "python",
   "nbconvert_exporter": "python",
   "pygments_lexer": "ipython3",
   "version": "3.11.2"
  }
 },
 "nbformat": 4,
 "nbformat_minor": 5
}
